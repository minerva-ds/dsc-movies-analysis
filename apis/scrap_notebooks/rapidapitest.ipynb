{
 "cells": [
  {
   "cell_type": "code",
   "execution_count": 3,
   "metadata": {},
   "outputs": [
    {
     "name": "stdout",
     "output_type": "stream",
     "text": [
      "{\n",
      "    \"results\": {\n",
      "        \"_id\": \"61e5817cd8f3c0931e4166b3\",\n",
      "        \"id\": \"tt0111161\",\n",
      "        \"productionBudget\": {\n",
      "            \"budget\": {\n",
      "                \"amount\": 25000000,\n",
      "                \"currency\": \"USD\",\n",
      "                \"__typename\": \"Money\"\n",
      "            },\n",
      "            \"__typename\": \"ProductionBudget\"\n",
      "        },\n",
      "        \"lifetimeGross\": {\n",
      "            \"total\": {\n",
      "                \"amount\": 28699976,\n",
      "                \"currency\": \"USD\",\n",
      "                \"__typename\": \"Money\"\n",
      "            },\n",
      "            \"__typename\": \"BoxOfficeGross\"\n",
      "        },\n",
      "        \"openingWeekendGross\": {\n",
      "            \"gross\": {\n",
      "                \"total\": {\n",
      "                    \"amount\": 727327,\n",
      "                    \"currency\": \"USD\",\n",
      "                    \"__typename\": \"Money\"\n",
      "                },\n",
      "                \"__typename\": \"BoxOfficeGross\"\n",
      "            },\n",
      "            \"weekendEndDate\": \"1994-09-25\",\n",
      "            \"__typename\": \"OpeningWeekendGross\"\n",
      "        },\n",
      "        \"worldwideGross\": {\n",
      "            \"total\": {\n",
      "                \"amount\": 28817291,\n",
      "                \"currency\": \"USD\",\n",
      "                \"__typename\": \"Money\"\n",
      "            },\n",
      "            \"__typename\": \"BoxOfficeGross\"\n",
      "        }\n",
      "    }\n",
      "}\n"
     ]
    }
   ],
   "source": [
    "import requests\n",
    "import json\n",
    "import pandas as pd\n",
    "\n",
    "# Define the API key and base URL\n",
    "#replace with your api key, removed before adding to github\n",
    "api_key = ''\n",
    "base_url = 'https://moviesdatabase.p.rapidapi.com/titles/'\n",
    "\n",
    "# Define headers\n",
    "headers = {\n",
    "    'X-RapidAPI-Key': api_key,\n",
    "    'X-RapidAPI-Host': 'moviesdatabase.p.rapidapi.com'\n",
    "}\n",
    "\n",
    "# Function to fetch movie details by IMDb ID\n",
    "def fetch_movie_details(imdb_id):\n",
    "    url = f'{base_url}{imdb_id}?info=revenue_budget'\n",
    "    response = requests.get(url, headers=headers)\n",
    "    if response.status_code == 200:\n",
    "        return response.json()  # Parse the JSON response into a Python object\n",
    "    else:\n",
    "        print(f\"Error fetching data for IMDb ID {imdb_id}: {response.status_code}\")\n",
    "        return None\n",
    "\n",
    "# Example IMDb IDs for demonstration (you can replace these with your list)\n",
    "imdb_ids = ['tt0111161', 'tt0068646', 'tt0071562']\n",
    "\n",
    "# Fetch movie details for each IMDb ID\n",
    "movie_details_list = []\n",
    "for imdb_id in imdb_ids:\n",
    "    details = fetch_movie_details(imdb_id)\n",
    "    if details:\n",
    "        movie_details_list.append(details)\n",
    "\n",
    "# Check if we have any results before trying to print\n",
    "if movie_details_list:\n",
    "    # Display the first parsed JSON object for debugging\n",
    "    print(json.dumps(movie_details_list[0], indent=4))\n",
    "else:\n",
    "    print(\"No data retrieved. Please check the API endpoint and parameters.\")"
   ]
  },
  {
   "cell_type": "code",
   "execution_count": 4,
   "metadata": {},
   "outputs": [
    {
     "name": "stdout",
     "output_type": "stream",
     "text": [
      "     imdb_id    budget  lifetime_gross  opening_weekend_gross  worldwide_gross\n",
      "0  tt0111161  25000000        28699976                 727327         28817291\n",
      "1  tt0068646   6000000       134966411                 302393        246120986\n",
      "2  tt0071562  13000000        47834595                 171417         48035783\n"
     ]
    }
   ],
   "source": [
    "# Function to extract relevant fields from the JSON response\n",
    "def extract_movie_data(movie_json):\n",
    "    movie_data = movie_json.get('results', {})\n",
    "    budget = movie_data.get('productionBudget', {}).get('budget', {}).get('amount')\n",
    "    lifetime_gross = movie_data.get('lifetimeGross', {}).get('total', {}).get('amount')\n",
    "    opening_weekend_gross = movie_data.get('openingWeekendGross', {}).get('gross', {}).get('total', {}).get('amount')\n",
    "    worldwide_gross = movie_data.get('worldwideGross', {}).get('total', {}).get('amount')\n",
    "    \n",
    "    return {\n",
    "        'imdb_id': movie_data.get('id'),\n",
    "        'budget': budget,\n",
    "        'lifetime_gross': lifetime_gross,\n",
    "        'opening_weekend_gross': opening_weekend_gross,\n",
    "        'worldwide_gross': worldwide_gross\n",
    "    }\n",
    "\n",
    "# Extract data for all fetched movies\n",
    "extracted_data = [extract_movie_data(movie) for movie in movie_details_list]\n",
    "\n",
    "# Convert to DataFrame\n",
    "movie_details_df = pd.DataFrame(extracted_data)\n",
    "\n",
    "# Display the DataFrame\n",
    "print(movie_details_df)"
   ]
  }
 ],
 "metadata": {
  "kernelspec": {
   "display_name": "learn-env",
   "language": "python",
   "name": "python3"
  },
  "language_info": {
   "codemirror_mode": {
    "name": "ipython",
    "version": 3
   },
   "file_extension": ".py",
   "mimetype": "text/x-python",
   "name": "python",
   "nbconvert_exporter": "python",
   "pygments_lexer": "ipython3",
   "version": "3.8.13"
  }
 },
 "nbformat": 4,
 "nbformat_minor": 2
}
