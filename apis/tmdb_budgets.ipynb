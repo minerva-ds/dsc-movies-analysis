{
 "cells": [
  {
   "cell_type": "code",
   "execution_count": 2,
   "metadata": {},
   "outputs": [
    {
     "data": {
      "text/plain": [
       "'Progress: 7.12% valuable info (34866/34866)'"
      ]
     },
     "metadata": {},
     "output_type": "display_data"
    },
    {
     "data": {
      "text/plain": [
       "'Last valid revenue: 124375'"
      ]
     },
     "metadata": {},
     "output_type": "display_data"
    },
    {
     "data": {
      "text/plain": [
       "'Last valid budget: 3500'"
      ]
     },
     "metadata": {},
     "output_type": "display_data"
    },
    {
     "name": "stdout",
     "output_type": "stream",
     "text": [
      "Progress saved for index 193333.\n",
      "Final DataFrame saved to 'movies_with_revenue_and_budget.pkl'\n",
      "    movie_id  worldwide_gross      budget\n",
      "0  tt0011801              0.0         0.0\n",
      "1  tt0013274              0.0         0.0\n",
      "2  tt0062336              0.0         0.0\n",
      "3  tt0069049              0.0  12000000.0\n",
      "4  tt0070596              0.0         0.0\n"
     ]
    }
   ],
   "source": [
    "import pandas as pd\n",
    "import requests\n",
    "import os\n",
    "from IPython.display import clear_output, display\n",
    "\n",
    "# Replace with your TMDb API key\n",
    "#replace with your api key, removed before placing on github\n",
    "API_KEY = \"\"\n",
    "\n",
    "# Load existing data\n",
    "pickle_file_path = 'movie_ids_with_nan.pkl'\n",
    "if os.path.exists(pickle_file_path):\n",
    "    data = pd.read_pickle(pickle_file_path)\n",
    "    print(f\"Loaded data type: {type(data)}\")  # Debug statement to show the type of the loaded data\n",
    "    display(data)\n",
    "    if isinstance(data, pd.Series):\n",
    "        print(\"Data is a Series, converting to DataFrame.\")  # Debug statement\n",
    "        movies_df = pd.DataFrame(data, columns=['movie_id']).reset_index(drop=True)\n",
    "        movies_df['worldwide_gross'] = pd.Series([None] * len(movies_df), dtype='float64')\n",
    "        movies_df['budget'] = pd.Series([None] * len(movies_df), dtype='float64')\n",
    "    elif isinstance(data, pd.DataFrame):\n",
    "        print(\"Data is a DataFrame.\")  # Debug statement\n",
    "        movies_df = data.reset_index(drop=True)\n",
    "    else:\n",
    "        raise ValueError(f\"The loaded object is neither a Series nor a DataFrame. Type: {type(data)}\")\n",
    "else:\n",
    "    raise FileNotFoundError(f\"The file {pickle_file_path} does not exist.\")\n",
    "\n",
    "#these ids causes a 404 with the api!\n",
    "bad_movie_ids = [888161]\n",
    "# Function to get movie details from TMDb\n",
    "def get_movie_details(imdb_id, api_key):\n",
    "    try:\n",
    "        url = f\"https://api.themoviedb.org/3/find/{imdb_id}?api_key={api_key}&external_source=imdb_id\"\n",
    "        response = requests.get(url)\n",
    "        response.raise_for_status()\n",
    "        data = response.json()\n",
    "        if data['movie_results']:\n",
    "            movie_id = data['movie_results'][0]['id']\n",
    "            if movie_id in bad_movie_ids:\n",
    "                return None,None\n",
    "            movie_url = f\"https://api.themoviedb.org/3/movie/{movie_id}?api_key={api_key}\"\n",
    "            movie_response = requests.get(movie_url)\n",
    "            movie_response.raise_for_status()\n",
    "            movie_data = movie_response.json()\n",
    "            \n",
    "            revenue = movie_data.get('revenue', None)\n",
    "            budget = movie_data.get('budget', None)\n",
    "            return revenue, budget\n",
    "        else:\n",
    "            return None, None\n",
    "    except requests.exceptions.RequestException as e:\n",
    "        print(f\"API error: {e}\")\n",
    "        raise\n",
    "\n",
    "# Initialize columns if they don't exist\n",
    "if 'worldwide_gross' not in movies_df.columns:\n",
    "    movies_df['worldwide_gross'] = pd.Series([None] * len(movies_df), dtype='float64')\n",
    "if 'budget' not in movies_df.columns:\n",
    "    movies_df['budget'] = pd.Series([None] * len(movies_df), dtype='float64')\n",
    "\n",
    "# Keep track of the index and counter\n",
    "start_index = movies_df['worldwide_gross'].last_valid_index() + 1 if movies_df['worldwide_gross'].last_valid_index() is not None else 0\n",
    "counter = 0\n",
    "total_counter = 0\n",
    "\n",
    "# Total number of rows to process\n",
    "total_rows = len(movies_df) - start_index\n",
    "\n",
    "# Initialize variables to store last valid values\n",
    "last_valid_revenue = None\n",
    "last_valid_budget = None\n",
    "\n",
    "# Loop over IMDb IDs and get the revenue and budget for each movie\n",
    "for index in range(start_index, len(movies_df)):\n",
    "    imdb_id = movies_df.at[index, 'movie_id']\n",
    "    print(f\"Processing index {index}, IMDb ID: {imdb_id}\")  # Debug statement\n",
    "    if not imdb_id.startswith('tt'):\n",
    "        print(f\"imdb_id {imdb_id} seems invalid\")\n",
    "        continue\n",
    "    \n",
    "    revenue, budget = get_movie_details(imdb_id, API_KEY)\n",
    "    print(f\"Retrieved revenue: {revenue}, budget: {budget}\")  # Debug statement\n",
    "    \n",
    "    movies_df.at[index, 'worldwide_gross'] = revenue\n",
    "    movies_df.at[index, 'budget'] = budget\n",
    "    \n",
    "    # Update the counter for successful queries\n",
    "    if (revenue is not None and revenue > 0):\n",
    "        last_valid_revenue = revenue\n",
    "    if (budget is not None and budget > 0):\n",
    "        last_valid_budget = budget\n",
    "    if (revenue is not None and revenue > 0) or (budget is not None and budget > 0):\n",
    "        counter += 1\n",
    "    total_counter += 1\n",
    "\n",
    "    # Display the progress\n",
    "    clear_output(wait=True)\n",
    "    display(f\"Progress: {counter/total_counter:.2%} valuable info ({total_counter}/{total_rows})\")\n",
    "    display(f\"Last valid revenue: {last_valid_revenue}\")\n",
    "    display(f\"Last valid budget: {last_valid_budget}\")\n",
    "\n",
    "    # Save progress to pickle file as DataFrame\n",
    "    movies_df.to_pickle(pickle_file_path)\n",
    "    print(f\"Progress saved for index {index}.\")\n",
    "\n",
    "# Save the final DataFrame with additional columns\n",
    "final_pickle_path = 'movies_with_revenue_and_budget.pkl'\n",
    "movies_df.to_pickle(final_pickle_path)\n",
    "print(f\"Final DataFrame saved to '{final_pickle_path}'\")\n",
    "\n",
    "# Display the final DataFrame\n",
    "print(movies_df.head())  # Debug statement to display the first few rows of the final DataFrame\n",
    "\n"
   ]
  },
  {
   "cell_type": "code",
   "execution_count": null,
   "metadata": {},
   "outputs": [],
   "source": []
  }
 ],
 "metadata": {
  "kernelspec": {
   "display_name": "learn-env",
   "language": "python",
   "name": "python3"
  },
  "language_info": {
   "codemirror_mode": {
    "name": "ipython",
    "version": 3
   },
   "file_extension": ".py",
   "mimetype": "text/x-python",
   "name": "python",
   "nbconvert_exporter": "python",
   "pygments_lexer": "ipython3",
   "version": "3.8.13"
  }
 },
 "nbformat": 4,
 "nbformat_minor": 2
}
