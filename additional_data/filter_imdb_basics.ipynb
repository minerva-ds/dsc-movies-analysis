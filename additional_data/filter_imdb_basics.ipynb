{
 "cells": [
  {
   "cell_type": "code",
   "execution_count": 8,
   "metadata": {},
   "outputs": [
    {
     "name": "stdout",
     "output_type": "stream",
     "text": [
      "          tconst titleType                      primaryTitle  \\\n",
      "11634  tt0011801     movie                  Tötet nicht mehr   \n",
      "13079  tt0013274     movie       Istoriya grazhdanskoy voyny   \n",
      "55749  tt0056840     short                          Aufsätze   \n",
      "56272  tt0057369     short  Number 14: Late Superimpositions   \n",
      "59194  tt0060361     short                          EMS nr 1   \n",
      "\n",
      "                          originalTitle isAdult  startYear endYear  \\\n",
      "11634                  Tötet nicht mehr       0       2019      \\N   \n",
      "13079       Istoriya grazhdanskoy voyny       0       2021      \\N   \n",
      "55749                          Aufsätze       0       2021      \\N   \n",
      "56272  Number 14: Late Superimpositions       0       2023      \\N   \n",
      "59194                          EMS nr 1       0       2016      \\N   \n",
      "\n",
      "      runtimeMinutes        genres  \n",
      "11634             \\N  Action,Crime  \n",
      "13079             94   Documentary  \n",
      "55749             10         Short  \n",
      "56272             30         Short  \n",
      "59194             14         Short  \n",
      "Filtered and compressed file saved as imdb_flat_files/filtered_title_basics.tsv.gz\n"
     ]
    },
    {
     "data": {
      "text/html": [
       "<div>\n",
       "<style scoped>\n",
       "    .dataframe tbody tr th:only-of-type {\n",
       "        vertical-align: middle;\n",
       "    }\n",
       "\n",
       "    .dataframe tbody tr th {\n",
       "        vertical-align: top;\n",
       "    }\n",
       "\n",
       "    .dataframe thead th {\n",
       "        text-align: right;\n",
       "    }\n",
       "</style>\n",
       "<table border=\"1\" class=\"dataframe\">\n",
       "  <thead>\n",
       "    <tr style=\"text-align: right;\">\n",
       "      <th></th>\n",
       "      <th>tconst</th>\n",
       "      <th>averageRating</th>\n",
       "      <th>numVotes</th>\n",
       "    </tr>\n",
       "  </thead>\n",
       "  <tbody>\n",
       "    <tr>\n",
       "      <th>0</th>\n",
       "      <td>tt0000001</td>\n",
       "      <td>5.7</td>\n",
       "      <td>2058</td>\n",
       "    </tr>\n",
       "    <tr>\n",
       "      <th>1</th>\n",
       "      <td>tt0000002</td>\n",
       "      <td>5.7</td>\n",
       "      <td>276</td>\n",
       "    </tr>\n",
       "    <tr>\n",
       "      <th>2</th>\n",
       "      <td>tt0000003</td>\n",
       "      <td>6.5</td>\n",
       "      <td>2022</td>\n",
       "    </tr>\n",
       "    <tr>\n",
       "      <th>3</th>\n",
       "      <td>tt0000004</td>\n",
       "      <td>5.4</td>\n",
       "      <td>179</td>\n",
       "    </tr>\n",
       "    <tr>\n",
       "      <th>4</th>\n",
       "      <td>tt0000005</td>\n",
       "      <td>6.2</td>\n",
       "      <td>2786</td>\n",
       "    </tr>\n",
       "  </tbody>\n",
       "</table>\n",
       "</div>"
      ],
      "text/plain": [
       "      tconst  averageRating  numVotes\n",
       "0  tt0000001            5.7      2058\n",
       "1  tt0000002            5.7       276\n",
       "2  tt0000003            6.5      2022\n",
       "3  tt0000004            5.4       179\n",
       "4  tt0000005            6.2      2786"
      ]
     },
     "metadata": {},
     "output_type": "display_data"
    },
    {
     "name": "stdout",
     "output_type": "stream",
     "text": [
      "<class 'pandas.core.frame.DataFrame'>\n",
      "Int64Index: 4479672 entries, 0 to 4479671\n",
      "Data columns (total 11 columns):\n",
      " #   Column          Dtype  \n",
      "---  ------          -----  \n",
      " 0   tconst          object \n",
      " 1   titleType       object \n",
      " 2   primaryTitle    object \n",
      " 3   originalTitle   object \n",
      " 4   isAdult         object \n",
      " 5   startYear       Int64  \n",
      " 6   endYear         object \n",
      " 7   runtimeMinutes  object \n",
      " 8   genres          object \n",
      " 9   averageRating   float64\n",
      " 10  numVotes        float64\n",
      "dtypes: Int64(1), float64(2), object(8)\n",
      "memory usage: 414.4+ MB\n"
     ]
    },
    {
     "data": {
      "text/plain": [
       "None"
      ]
     },
     "metadata": {},
     "output_type": "display_data"
    },
    {
     "name": "stdout",
     "output_type": "stream",
     "text": [
      "<class 'pandas.core.frame.DataFrame'>\n",
      "Int64Index: 195091 entries, 0 to 4479654\n",
      "Data columns (total 11 columns):\n",
      " #   Column          Non-Null Count   Dtype  \n",
      "---  ------          --------------   -----  \n",
      " 0   tconst          195091 non-null  object \n",
      " 1   titleType       195091 non-null  object \n",
      " 2   primaryTitle    195091 non-null  object \n",
      " 3   originalTitle   195091 non-null  object \n",
      " 4   isAdult         195091 non-null  object \n",
      " 5   startYear       195091 non-null  Int64  \n",
      " 6   endYear         195091 non-null  object \n",
      " 7   runtimeMinutes  195091 non-null  object \n",
      " 8   genres          195091 non-null  object \n",
      " 9   averageRating   101899 non-null  float64\n",
      " 10  numVotes        101899 non-null  float64\n",
      "dtypes: Int64(1), float64(2), object(8)\n",
      "memory usage: 18.0+ MB\n"
     ]
    },
    {
     "data": {
      "text/plain": [
       "None"
      ]
     },
     "metadata": {},
     "output_type": "display_data"
    },
    {
     "name": "stdout",
     "output_type": "stream",
     "text": [
      "       tconst titleType                       primaryTitle  \\\n",
      "1   tt0013274     movie        Istoriya grazhdanskoy voyny   \n",
      "9   tt0070596     movie                  Socialist Realism   \n",
      "10  tt0077684     movie  Histórias de Combóios em Portugal   \n",
      "11  tt0096235     movie                        Taxi Killer   \n",
      "12  tt0097767     movie                     Loading Ludwig   \n",
      "\n",
      "                        originalTitle isAdult  startYear endYear  \\\n",
      "1         Istoriya grazhdanskoy voyny       0       2021      \\N   \n",
      "9              El realismo socialista       0       2023      \\N   \n",
      "10  Histórias de Combóios em Portugal       0       2022      \\N   \n",
      "11                        Taxi Killer       0       2022      \\N   \n",
      "12                     Loading Ludwig       0       2022      \\N   \n",
      "\n",
      "   runtimeMinutes              genres  averageRating  numVotes  \n",
      "1              94         Documentary            6.6      71.0  \n",
      "9              78               Drama            7.5      59.0  \n",
      "10             46         Documentary            NaN       NaN  \n",
      "11            106  Action,Crime,Drama            5.6      73.0  \n",
      "12             65                  \\N            7.0       6.0  \n"
     ]
    }
   ],
   "source": [
    "import pandas as pd\n",
    "import gzip\n",
    "from datetime import datetime\n",
    "import shutil\n",
    "import os\n",
    "\n",
    "def load_gzipped_tsv_in_chunks(file_path, chunk_size=10000):\n",
    "    chunks = []\n",
    "    for chunk in pd.read_csv(file_path, delimiter='\\t', encoding='utf-8', chunksize=chunk_size):\n",
    "        chunks.append(chunk)\n",
    "    return pd.concat(chunks, ignore_index=True)\n",
    "\n",
    "# Note: The large input file should be downloaded from https://datasets.imdbws.com/\n",
    "input_file = 'imdb_flat_files/title.basics.tsv.gz'\n",
    "output_file = 'imdb_flat_files/filtered_title_basics.tsv.gz'\n",
    "\n",
    "# Read the compressed TSV file\n",
    "df = load_gzipped_tsv_in_chunks(input_file)\n",
    "\n",
    "# Get the current year\n",
    "current_year = datetime.now().year\n",
    "# Calculate the threshold year\n",
    "threshold_year = current_year - 10\n",
    "\n",
    "# Convert 'startYear' to numeric (Int64), forcing errors to NaN\n",
    "df['startYear'] = pd.to_numeric(df['startYear'], errors='coerce').astype('Int64')\n",
    "filtered_df = df[(df['startYear'] >= threshold_year) & (df['startYear'].notna())]\n",
    "print(filtered_df.head())\n",
    "\n",
    "# Save the filtered DataFrame to a TSV file\n",
    "filtered_tsv_file = 'filtered_title_basics.tsv'\n",
    "filtered_df.to_csv(filtered_tsv_file, sep='\\t', index=False, encoding='utf-8')\n",
    "\n",
    "# Compress the TSV file\n",
    "with open(filtered_tsv_file, 'rb') as f_in:\n",
    "    with gzip.open(output_file, 'wb') as f_out:\n",
    "        shutil.copyfileobj(f_in, f_out)\n",
    "\n",
    "# Optionally, remove the intermediate TSV file\n",
    "os.remove(filtered_tsv_file)\n",
    "\n",
    "print(f\"Filtered and compressed file saved as {output_file}\")\n",
    "\n",
    "# Reload filtered data for merging\n",
    "title_basics = filtered_df\n",
    "title_ratings = load_gzipped_tsv_in_chunks('imdb_flat_files/title.ratings.tsv.gz')\n",
    "display(title_ratings.head())\n",
    "\n",
    "# Merge the filtered movies with the ratings data on tconst\n",
    "merged_df = pd.merge(filtered_df, title_ratings, on='tconst', how='left')\n",
    "\n",
    "# Filter to include only movies\n",
    "display(merged_df.info())\n",
    "merged_df = merged_df[merged_df['titleType'] == 'movie']\n",
    "display(merged_df.info())\n",
    "\n",
    "threshold_year = current_year - 3 \n",
    "merged_df = merged_df[(merged_df['startYear'] >= threshold_year) & (merged_df['startYear'].notna())]\n",
    "print(merged_df.head())\n",
    "\n",
    "# Save the resulting DataFrame as a pickle file\n",
    "merged_df.to_pickle('last_three_years_movies_with_ratings.pkl')"
   ]
  },
  {
   "cell_type": "code",
   "execution_count": 7,
   "metadata": {},
   "outputs": [
    {
     "name": "stdout",
     "output_type": "stream",
     "text": [
      "<class 'pandas.core.frame.DataFrame'>\n",
      "Int64Index: 68917 entries, 1 to 4479219\n",
      "Data columns (total 11 columns):\n",
      " #   Column          Non-Null Count  Dtype  \n",
      "---  ------          --------------  -----  \n",
      " 0   tconst          68917 non-null  object \n",
      " 1   titleType       68917 non-null  object \n",
      " 2   primaryTitle    68917 non-null  object \n",
      " 3   originalTitle   68917 non-null  object \n",
      " 4   isAdult         68917 non-null  object \n",
      " 5   startYear       68917 non-null  Int64  \n",
      " 6   endYear         68917 non-null  object \n",
      " 7   runtimeMinutes  68917 non-null  object \n",
      " 8   genres          68917 non-null  object \n",
      " 9   averageRating   32777 non-null  float64\n",
      " 10  numVotes        32777 non-null  float64\n",
      "dtypes: Int64(1), float64(2), object(8)\n",
      "memory usage: 6.4+ MB\n"
     ]
    }
   ],
   "source": [
    "merged_df.info()"
   ]
  },
  {
   "cell_type": "code",
   "execution_count": null,
   "metadata": {},
   "outputs": [],
   "source": []
  }
 ],
 "metadata": {
  "kernelspec": {
   "display_name": "learn-env",
   "language": "python",
   "name": "python3"
  },
  "language_info": {
   "codemirror_mode": {
    "name": "ipython",
    "version": 3
   },
   "file_extension": ".py",
   "mimetype": "text/x-python",
   "name": "python",
   "nbconvert_exporter": "python",
   "pygments_lexer": "ipython3",
   "version": "3.8.13"
  }
 },
 "nbformat": 4,
 "nbformat_minor": 2
}
